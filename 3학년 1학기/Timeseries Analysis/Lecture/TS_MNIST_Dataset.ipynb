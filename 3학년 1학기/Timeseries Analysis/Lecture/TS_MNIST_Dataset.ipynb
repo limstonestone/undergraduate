{
  "nbformat": 4,
  "nbformat_minor": 0,
  "metadata": {
    "colab": {
      "name": "TS_MNIST Dataset.ipynb",
      "provenance": [],
      "collapsed_sections": []
    },
    "kernelspec": {
      "name": "python3",
      "display_name": "Python 3"
    },
    "language_info": {
      "name": "python"
    },
    "accelerator": "TPU"
  },
  "cells": [
    {
      "cell_type": "code",
      "execution_count": null,
      "metadata": {
        "id": "Lwkz9EXsG4Wy"
      },
      "outputs": [],
      "source": [
        "import numpy as np\n",
        "from keras.datasets import mnist\n",
        "%matplotlib inline\n",
        "import matplotlib.pyplot as plt"
      ]
    },
    {
      "cell_type": "code",
      "source": [
        "### load dataset\n",
        "\n",
        "# mnist.load_data() : 7만개 이미지와 레이블을 개별적으로 불러와서 배열에 저장할 필요가 없어 편리 \n",
        "\n",
        "(x_train, y_train), (x_test, y_test) = mnist.load_data()"
      ],
      "metadata": {
        "id": "xs1IO7JWHGDb"
      },
      "execution_count": null,
      "outputs": []
    },
    {
      "cell_type": "code",
      "source": [
        "### count the number of unique train labels\n",
        "\n",
        "# np.unique() : numpy 배열 내 고유한 원소의 집합을 찾음\n",
        "# return_counts = True : 각 고유한 원소별로 개수를 구해서 배열로 반환\n",
        "# np.unique(arr, return_counts = True) 의 결과를 unique, counts 라는 이름의 array로 할당을 받음\n",
        "# 이를 zip(unique, counts) 으로 쌍(pair)을 만든 후, dict() 를 사용해서 사전형으로 변환\n",
        "\n",
        "unique, counts = np.unique(y_train, return_counts=True)\n",
        "print(\"Train labels: \", dict(zip(unique, counts)))"
      ],
      "metadata": {
        "id": "XL3sTaS2HPLr"
      },
      "execution_count": null,
      "outputs": []
    },
    {
      "cell_type": "code",
      "source": [
        "### count the number of unique test labels\n",
        "\n",
        "unique, counts = np.unique(y_test, return_counts=True)\n",
        "print(\"Test labels: \", dict(zip(unique, counts)))"
      ],
      "metadata": {
        "id": "1dJsURZNHWPS"
      },
      "execution_count": null,
      "outputs": []
    },
    {
      "cell_type": "code",
      "source": [
        "x_train.shape"
      ],
      "metadata": {
        "id": "qQnkDQH6HZYC"
      },
      "execution_count": null,
      "outputs": []
    },
    {
      "cell_type": "code",
      "source": [
        "x_train.shape[0]"
      ],
      "metadata": {
        "id": "B5e3vQQhHbca"
      },
      "execution_count": null,
      "outputs": []
    },
    {
      "cell_type": "code",
      "source": [
        "### sample 25 mnist digits from train dataset\n",
        "\n",
        "# np.random.randint() : 균일분포를 따르는 정수를 난수로 생성\n",
        "\n",
        "indexes = np.random.randint(0, x_train.shape[0], size=25)\n",
        "images = x_train[indexes]\n",
        "labels = y_train[indexes]"
      ],
      "metadata": {
        "id": "TZmWtQCqHdOa"
      },
      "execution_count": null,
      "outputs": []
    },
    {
      "cell_type": "code",
      "source": [
        "len(indexes)"
      ],
      "metadata": {
        "id": "d12qxJDgHfiS"
      },
      "execution_count": null,
      "outputs": []
    },
    {
      "cell_type": "code",
      "source": [
        "### plot the 25 mnist digits\n",
        "\n",
        "plt.figure(figsize=(5,5))\n",
        "for i in range(len(indexes)):\n",
        "    plt.subplot(5, 5, i + 1)\n",
        "    image = images[i]\n",
        "    plt.imshow(image, cmap='gray')\n",
        "    plt.axis('off')\n",
        "plt.show()"
      ],
      "metadata": {
        "id": "pMPwPgR_Hhm6"
      },
      "execution_count": null,
      "outputs": []
    }
  ]
}