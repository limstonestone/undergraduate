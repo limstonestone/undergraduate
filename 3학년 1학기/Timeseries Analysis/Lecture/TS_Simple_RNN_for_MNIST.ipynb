{
  "nbformat": 4,
  "nbformat_minor": 0,
  "metadata": {
    "colab": {
      "name": "TS_Simple_RNN_for_MNIST.ipynb",
      "provenance": [],
      "collapsed_sections": []
    },
    "kernelspec": {
      "name": "python3",
      "display_name": "Python 3"
    },
    "language_info": {
      "name": "python"
    },
    "accelerator": "TPU"
  },
  "cells": [
    {
      "cell_type": "code",
      "execution_count": 1,
      "metadata": {
        "id": "mF9MLKHhyAKa"
      },
      "outputs": [],
      "source": [
        "import numpy as np\n",
        "from tensorflow.keras.models import Sequential\n",
        "from tensorflow.keras.layers import Dense, Activation, SimpleRNN\n",
        "from tensorflow.keras.utils import to_categorical\n",
        "from tensorflow.keras.datasets import mnist"
      ]
    },
    {
      "cell_type": "code",
      "source": [
        "### load mnist dataset\n",
        "(x_train, y_train), (x_test, y_test) = mnist.load_data()"
      ],
      "metadata": {
        "colab": {
          "base_uri": "https://localhost:8080/"
        },
        "id": "FCGnjWG_yIhO",
        "outputId": "1e14e2fe-bcb8-4d76-fa82-bf656e1a5fc5"
      },
      "execution_count": 2,
      "outputs": [
        {
          "output_type": "stream",
          "name": "stdout",
          "text": [
            "Downloading data from https://storage.googleapis.com/tensorflow/tf-keras-datasets/mnist.npz\n",
            "11493376/11490434 [==============================] - 0s 0us/step\n",
            "11501568/11490434 [==============================] - 0s 0us/step\n"
          ]
        }
      ]
    },
    {
      "cell_type": "code",
      "source": [
        "### compute the number of labels\n",
        "num_labels = len(np.unique(y_train))"
      ],
      "metadata": {
        "id": "Nbl0TJHVyQCM"
      },
      "execution_count": 3,
      "outputs": []
    },
    {
      "cell_type": "code",
      "source": [
        "### convert to one-hot vector\n",
        "y_train = to_categorical(y_train)\n",
        "y_test = to_categorical(y_test)"
      ],
      "metadata": {
        "id": "Ep-Pd1UIyR8t"
      },
      "execution_count": 4,
      "outputs": []
    },
    {
      "cell_type": "code",
      "source": [
        "### resize and normalize\n",
        "image_size = x_train.shape[1]\n",
        "x_train = np.reshape(x_train,[-1, image_size, image_size])\n",
        "x_test = np.reshape(x_test,[-1, image_size, image_size])\n",
        "x_train = x_train.astype('float32') / 255\n",
        "x_test = x_test.astype('float32') / 255"
      ],
      "metadata": {
        "id": "facHu2upyULF"
      },
      "execution_count": 5,
      "outputs": []
    },
    {
      "cell_type": "code",
      "source": [
        "### network parameters\n",
        "input_shape = (image_size, image_size)\n",
        "batch_size = 128\n",
        "units = 256\n",
        "dropout = 0.2"
      ],
      "metadata": {
        "id": "OV0keSjYyWG0"
      },
      "execution_count": 6,
      "outputs": []
    },
    {
      "cell_type": "code",
      "source": [
        "### model is RNN with 256 units, input is 28-dim vector 28 timesteps\n",
        "model = Sequential()\n",
        "model.add(SimpleRNN(units=units,\n",
        "                    dropout=dropout,\n",
        "                    input_shape=input_shape))\n",
        "model.add(Dense(num_labels))\n",
        "model.add(Activation('softmax'))"
      ],
      "metadata": {
        "id": "SPhC_PRmyYts"
      },
      "execution_count": 7,
      "outputs": []
    },
    {
      "cell_type": "code",
      "source": [
        "model.summary()"
      ],
      "metadata": {
        "colab": {
          "base_uri": "https://localhost:8080/"
        },
        "id": "VjGyLy8XyaqF",
        "outputId": "b491d0ff-ad34-4484-af08-319cea436c79"
      },
      "execution_count": 8,
      "outputs": [
        {
          "output_type": "stream",
          "name": "stdout",
          "text": [
            "Model: \"sequential\"\n",
            "_________________________________________________________________\n",
            " Layer (type)                Output Shape              Param #   \n",
            "=================================================================\n",
            " simple_rnn (SimpleRNN)      (None, 256)               72960     \n",
            "                                                                 \n",
            " dense (Dense)               (None, 10)                2570      \n",
            "                                                                 \n",
            " activation (Activation)     (None, 10)                0         \n",
            "                                                                 \n",
            "=================================================================\n",
            "Total params: 75,530\n",
            "Trainable params: 75,530\n",
            "Non-trainable params: 0\n",
            "_________________________________________________________________\n"
          ]
        }
      ]
    },
    {
      "cell_type": "code",
      "source": [
        "model.compile(loss='categorical_crossentropy',\n",
        "              optimizer='sgd',\n",
        "              metrics=['accuracy'])"
      ],
      "metadata": {
        "id": "39_qf7MzycdE"
      },
      "execution_count": 9,
      "outputs": []
    },
    {
      "cell_type": "code",
      "source": [
        "### train the network\n",
        "model.fit(x_train, y_train, epochs=20, batch_size=batch_size)"
      ],
      "metadata": {
        "colab": {
          "base_uri": "https://localhost:8080/"
        },
        "id": "qEcOy7wKyfE8",
        "outputId": "60b0271d-33bb-4ce7-93b2-067ab69a036b"
      },
      "execution_count": 10,
      "outputs": [
        {
          "output_type": "stream",
          "name": "stdout",
          "text": [
            "Epoch 1/20\n",
            "469/469 [==============================] - 32s 65ms/step - loss: 0.7433 - accuracy: 0.7851\n",
            "Epoch 2/20\n",
            "469/469 [==============================] - 29s 63ms/step - loss: 0.3231 - accuracy: 0.9063\n",
            "Epoch 3/20\n",
            "469/469 [==============================] - 29s 62ms/step - loss: 0.2408 - accuracy: 0.9282\n",
            "Epoch 4/20\n",
            "469/469 [==============================] - 30s 63ms/step - loss: 0.2010 - accuracy: 0.9402\n",
            "Epoch 5/20\n",
            "469/469 [==============================] - 29s 62ms/step - loss: 0.1740 - accuracy: 0.9484\n",
            "Epoch 6/20\n",
            "469/469 [==============================] - 29s 63ms/step - loss: 0.1577 - accuracy: 0.9535\n",
            "Epoch 7/20\n",
            "469/469 [==============================] - 29s 63ms/step - loss: 0.1429 - accuracy: 0.9577\n",
            "Epoch 8/20\n",
            "469/469 [==============================] - 30s 63ms/step - loss: 0.1303 - accuracy: 0.9604\n",
            "Epoch 9/20\n",
            "469/469 [==============================] - 29s 62ms/step - loss: 0.1218 - accuracy: 0.9633\n",
            "Epoch 10/20\n",
            "469/469 [==============================] - 29s 62ms/step - loss: 0.1125 - accuracy: 0.9663\n",
            "Epoch 11/20\n",
            "469/469 [==============================] - 29s 63ms/step - loss: 0.1085 - accuracy: 0.9670\n",
            "Epoch 12/20\n",
            "469/469 [==============================] - 29s 63ms/step - loss: 0.1008 - accuracy: 0.9686\n",
            "Epoch 13/20\n",
            "469/469 [==============================] - 29s 63ms/step - loss: 0.0964 - accuracy: 0.9712\n",
            "Epoch 14/20\n",
            "469/469 [==============================] - 29s 63ms/step - loss: 0.0934 - accuracy: 0.9721\n",
            "Epoch 15/20\n",
            "469/469 [==============================] - 29s 62ms/step - loss: 0.0879 - accuracy: 0.9731\n",
            "Epoch 16/20\n",
            "469/469 [==============================] - 29s 63ms/step - loss: 0.0854 - accuracy: 0.9744\n",
            "Epoch 17/20\n",
            "469/469 [==============================] - 29s 62ms/step - loss: 0.0809 - accuracy: 0.9752\n",
            "Epoch 18/20\n",
            "469/469 [==============================] - 30s 63ms/step - loss: 0.0775 - accuracy: 0.9763\n",
            "Epoch 19/20\n",
            "469/469 [==============================] - 29s 63ms/step - loss: 0.0764 - accuracy: 0.9768\n",
            "Epoch 20/20\n",
            "469/469 [==============================] - 29s 62ms/step - loss: 0.0712 - accuracy: 0.9778\n"
          ]
        },
        {
          "output_type": "execute_result",
          "data": {
            "text/plain": [
              "<keras.callbacks.History at 0x7fa1c90d3450>"
            ]
          },
          "metadata": {},
          "execution_count": 10
        }
      ]
    },
    {
      "cell_type": "code",
      "source": [
        "_, acc = model.evaluate(x_test,\n",
        "                        y_test,\n",
        "                        batch_size=batch_size,\n",
        "                        verbose=0)"
      ],
      "metadata": {
        "id": "Z35fNbfayhGd"
      },
      "execution_count": 11,
      "outputs": []
    },
    {
      "cell_type": "code",
      "source": [
        "print(\"\\nTest accuracy: %.1f%%\" % (100.0 * acc))"
      ],
      "metadata": {
        "colab": {
          "base_uri": "https://localhost:8080/"
        },
        "id": "tKOWkiJ1yqI9",
        "outputId": "3a91ac01-2d05-4392-a577-f315bbd7c33c"
      },
      "execution_count": 12,
      "outputs": [
        {
          "output_type": "stream",
          "name": "stdout",
          "text": [
            "\n",
            "Test accuracy: 97.9%\n"
          ]
        }
      ]
    }
  ]
}