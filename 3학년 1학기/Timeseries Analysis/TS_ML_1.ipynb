{
  "cells": [
    {
      "cell_type": "code",
      "source": [
        "!pip install cesium"
      ],
      "metadata": {
        "id": "1O3Jn9gSBMpl"
      },
      "execution_count": null,
      "outputs": []
    },
    {
      "cell_type": "code",
      "execution_count": null,
      "metadata": {
        "id": "B7BGoLaZ8dwF"
      },
      "outputs": [],
      "source": [
        "from cesium import datasets"
      ]
    },
    {
      "cell_type": "code",
      "execution_count": null,
      "metadata": {
        "id": "ZDeMy1yQ_Bfg"
      },
      "outputs": [],
      "source": [
        "# EEG : 뇌전도(electroencephalogram)\n",
        "# 이 데이터를 사용한 논문 : https://perma.cc/YZD5-CTJF\n",
        "# 눈을 뜨거나 감은 (두 개의 별도 범주) 건강한 사람에 대한 EEG 기록\n",
        "# 발작이 발생하지 않은 간질 환자의 발작과는 관련이 없는 두뇌의 두뇌의 두 부위에 대한 EEG 기록(두 개의 별도 범주)\n",
        "# 발작 중 뇌파 내 EEG 기록(단일범주)\n",
        "\n",
        "eeg = datasets.fetch_andrzejak()"
      ]
    },
    {
      "cell_type": "code",
      "source": [
        "import matplotlib.pyplot as plt"
      ],
      "metadata": {
        "id": "_2Q_AfyiCMOJ"
      },
      "execution_count": null,
      "outputs": []
    },
    {
      "cell_type": "code",
      "execution_count": null,
      "metadata": {
        "id": "afhP2FVd_I7A"
      },
      "outputs": [],
      "source": [
        "# 일부 샘플을 가지고 와서 그림을 그려본다\n",
        "plt.subplot(3,1,1)\n",
        "plt.plot(eeg[\"measurements\"][0])\n",
        "plt.legend(eeg['classes'][0])\n",
        "plt.subplot(3,1,2)\n",
        "plt.plot(eeg[\"measurements\"][300])\n",
        "plt.legend(eeg['classes'][300])\n",
        "plt.subplot(3,1,3)\n",
        "plt.plot(eeg[\"measurements\"][450])\n",
        "plt.legend(eeg['classes'][450])"
      ]
    },
    {
      "cell_type": "code",
      "execution_count": null,
      "metadata": {
        "id": "2HRDHGUm_5xY"
      },
      "outputs": [],
      "source": [
        "# cesium으로 특징을 생성하는 방법\n",
        "from cesium.featurize import featurize_time_series as ft\n",
        "\n",
        "features_to_use = [\"amplitude\",\n",
        "                   \"percent_beyond_1_std\",\n",
        "                   \"percent_close_to_median\",\n",
        "                   \"skew\",\n",
        "                   \"max_slope\"]\n",
        "\n",
        "fset_cesium = ft(times = eeg[\"times\"],\n",
        "                 values = eeg[\"measurements\"],\n",
        "                 errors = None,\n",
        "                 features_to_use = features_to_use,\n",
        "                 scheduler = None)"
      ]
    },
    {
      "cell_type": "code",
      "source": [
        "fset_cesium.head()"
      ],
      "metadata": {
        "id": "1goh7LlpGCRW"
      },
      "execution_count": null,
      "outputs": []
    },
    {
      "cell_type": "code",
      "source": [
        "import numpy as np\n",
        "np.std(eeg[\"measurements\"][0])"
      ],
      "metadata": {
        "id": "FV8N-lmNGHho"
      },
      "execution_count": null,
      "outputs": []
    },
    {
      "cell_type": "code",
      "source": [
        "np.mean(eeg[\"measurements\"][0])"
      ],
      "metadata": {
        "id": "F409o-LkGQrR"
      },
      "execution_count": null,
      "outputs": []
    },
    {
      "cell_type": "code",
      "source": [
        "sample_ts = eeg[\"measurements\"][0]\n",
        "sz = len(sample_ts)\n",
        "ll = -4.13 - 40.4\n",
        "ul = -4.13 + 40.4\n",
        "quals = [i for i in range(sz) if sample_ts[i] < ll or sample_ts[i] > ul]"
      ],
      "metadata": {
        "id": "W9E9MDe-Ga88"
      },
      "execution_count": null,
      "outputs": []
    },
    {
      "cell_type": "code",
      "source": [
        "len(quals)/sz"
      ],
      "metadata": {
        "id": "89ltR0j6Gbwp"
      },
      "execution_count": null,
      "outputs": []
    },
    {
      "cell_type": "code",
      "source": [
        "from sklearn.model_selection import train_test_split\n",
        "\n",
        "X_train, X_test, y_train, y_test = train_test_split(fset_cesium.values, eeg[\"classes\"], random_state=21)"
      ],
      "metadata": {
        "id": "OKOFhj-fGhFD"
      },
      "execution_count": null,
      "outputs": []
    },
    {
      "cell_type": "code",
      "source": [
        "## 1. Random Forest ##\n",
        "# https://scikit-learn.org/stable/modules/generated/sklearn.ensemble.RandomForestClassifier.html\n",
        "\n",
        "from sklearn.ensemble import RandomForestClassifier\n",
        "\n",
        "rf_clf = RandomForestClassifier(n_estimators = 10,\n",
        "                                max_depth = 3,\n",
        "                                random_state = 21)\n",
        "rf_clf.fit(X_train, y_train)"
      ],
      "metadata": {
        "id": "cIJdyibkGkcM"
      },
      "execution_count": null,
      "outputs": []
    },
    {
      "cell_type": "code",
      "source": [
        "# 학습에 사용되지 않은 데이터에 대한 정확도를 반환\n",
        "rf_clf.score(X_test, y_test)"
      ],
      "metadata": {
        "id": "fcxiVhKQGlKZ"
      },
      "execution_count": null,
      "outputs": []
    },
    {
      "cell_type": "code",
      "source": [
        "## XGBoost ##\n",
        "\n",
        "import xgboost as xgb\n",
        "xgb_clf = xgb.XGBClassifier(n_estimators = 10,\n",
        "                            max_depth = 3,\n",
        "                            random_state = 21)\n",
        "\n",
        "xgb_clf.fit(X_train, y_train)\n",
        "xgb_clf.score(X_test, y_test)"
      ],
      "metadata": {
        "id": "SRfODAjjGrEp"
      },
      "execution_count": null,
      "outputs": []
    },
    {
      "cell_type": "code",
      "source": [
        "# 학습에 소요되는 시간 반환\n",
        "\n",
        "import time\n",
        "\n",
        "start = time.time()\n",
        "xgb_clf.fit(X_train, y_train)\n",
        "end = time.time()\n",
        "end - start"
      ],
      "metadata": {
        "id": "EnlT8iwVGuzh"
      },
      "execution_count": null,
      "outputs": []
    },
    {
      "cell_type": "code",
      "source": [
        "start = time.time()\n",
        "rf_clf.fit(X_train, y_train)\n",
        "end = time.time()\n",
        "end - start"
      ],
      "metadata": {
        "id": "0TFm3z7nGyJp"
      },
      "execution_count": null,
      "outputs": []
    },
    {
      "cell_type": "code",
      "source": [
        "xgb_clf = xgb.XGBClassifier(n_estimators = 10,\n",
        "                            max_depth = 2,\n",
        "                            random_state = 21)\n",
        "xgb_clf.fit(X_train, y_train)\n",
        "xgb_clf.score(X_test, y_test)"
      ],
      "metadata": {
        "id": "5HWkmdUDG1L5"
      },
      "execution_count": null,
      "outputs": []
    },
    {
      "cell_type": "code",
      "source": [
        "rf_clf = RandomForestClassifier(n_estimators = 10,\n",
        "                                max_depth = 2,\n",
        "                                random_state = 21)\n",
        "rf_clf.fit(X_train, y_train)\n",
        "rf_clf.score(X_test, y_test)"
      ],
      "metadata": {
        "id": "av7u7RYJG3ca"
      },
      "execution_count": null,
      "outputs": []
    },
    {
      "cell_type": "code",
      "source": [
        "xgb_clf = xgb.XGBClassifier(n_estimators = 10,\n",
        "                            max_depth = 1,\n",
        "                            random_state = 21)\n",
        "xgb_clf.fit(X_train, y_train)\n",
        "xgb_clf.score(X_test, y_test)"
      ],
      "metadata": {
        "id": "lXqh0WE_G6GR"
      },
      "execution_count": null,
      "outputs": []
    },
    {
      "cell_type": "code",
      "source": [
        "rf_clf = RandomForestClassifier(n_estimators = 10,\n",
        "                                max_depth = 1,\n",
        "                                random_state = 21)\n",
        "rf_clf.fit(X_train, y_train)\n",
        "rf_clf.score(X_test, y_test)"
      ],
      "metadata": {
        "id": "0Zg2mG-oG8Np"
      },
      "execution_count": null,
      "outputs": []
    }
  ],
  "metadata": {
    "colab": {
      "collapsed_sections": [],
      "name": "TS_ML-1.ipynb",
      "provenance": []
    },
    "kernelspec": {
      "display_name": "Python 3",
      "name": "python3"
    },
    "language_info": {
      "name": "python"
    }
  },
  "nbformat": 4,
  "nbformat_minor": 0
}