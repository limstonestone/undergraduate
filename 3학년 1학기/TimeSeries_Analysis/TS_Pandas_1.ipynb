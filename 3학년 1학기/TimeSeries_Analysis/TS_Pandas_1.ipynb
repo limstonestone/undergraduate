{
  "nbformat": 4,
  "nbformat_minor": 0,
  "metadata": {
    "colab": {
      "name": "TS_Pandas_1.ipynb",
      "provenance": [],
      "collapsed_sections": []
    },
    "kernelspec": {
      "name": "python3",
      "display_name": "Python 3"
    },
    "language_info": {
      "name": "python"
    },
    "accelerator": "GPU"
  },
  "cells": [
    {
      "cell_type": "code",
      "execution_count": null,
      "metadata": {
        "id": "4fV4lrT7v2vh"
      },
      "outputs": [],
      "source": [
        "# https://financedata.github.io/posts/finance-data-reader-users-guide.html \n",
        "!pip install -U finance-datareader"
      ]
    },
    {
      "cell_type": "code",
      "source": [
        "import pandas as pd\n",
        "#import seaborn as sns\n",
        "import FinanceDataReader as fdr\n",
        "fdr.__version__"
      ],
      "metadata": {
        "id": "Oe7m2JRMwNtu"
      },
      "execution_count": null,
      "outputs": []
    },
    {
      "cell_type": "code",
      "source": [
        "fdr.StockListing?"
      ],
      "metadata": {
        "id": "LrbgY-Lbw2Rv"
      },
      "execution_count": null,
      "outputs": []
    },
    {
      "cell_type": "code",
      "source": [
        "fdr.StockListing??"
      ],
      "metadata": {
        "id": "FvKA0DycxFsO"
      },
      "execution_count": null,
      "outputs": []
    },
    {
      "cell_type": "code",
      "source": [
        "df_krx = fdr.StockListing(\"KRX\")"
      ],
      "metadata": {
        "id": "b9QNGExhxYtO"
      },
      "execution_count": null,
      "outputs": []
    },
    {
      "cell_type": "code",
      "source": [
        "df_krx.head()"
      ],
      "metadata": {
        "id": "BGJvTLYTxgrd"
      },
      "execution_count": null,
      "outputs": []
    },
    {
      "cell_type": "code",
      "source": [
        "df_krx.shape"
      ],
      "metadata": {
        "id": "HEqhuIIJxrU_"
      },
      "execution_count": null,
      "outputs": []
    },
    {
      "cell_type": "code",
      "source": [
        "df_krx.info()"
      ],
      "metadata": {
        "id": "bLcttryOxxR2"
      },
      "execution_count": null,
      "outputs": []
    },
    {
      "cell_type": "code",
      "source": [
        "df_krx.describe()"
      ],
      "metadata": {
        "id": "dHCRVU8Bx00W"
      },
      "execution_count": null,
      "outputs": []
    },
    {
      "cell_type": "code",
      "source": [
        "df_krx.to_csv(\"krx.csv\", index = False)"
      ],
      "metadata": {
        "id": "9X0m5ijix8ZG"
      },
      "execution_count": null,
      "outputs": []
    },
    {
      "cell_type": "code",
      "source": [
        "pd.read_csv(\"krx.csv\")"
      ],
      "metadata": {
        "id": "CAcfdXrQyKTO"
      },
      "execution_count": null,
      "outputs": []
    },
    {
      "cell_type": "code",
      "source": [
        "df = pd.read_csv(\"krx.csv\", dtype = {\"Symbol\": object})"
      ],
      "metadata": {
        "id": "Q_jvPRB2yb_3"
      },
      "execution_count": null,
      "outputs": []
    },
    {
      "cell_type": "code",
      "source": [
        "df.shape"
      ],
      "metadata": {
        "id": "BUp2SLWly8NP"
      },
      "execution_count": null,
      "outputs": []
    },
    {
      "cell_type": "code",
      "source": [
        "df.head()"
      ],
      "metadata": {
        "id": "dp9kBUNWy-xg"
      },
      "execution_count": null,
      "outputs": []
    },
    {
      "cell_type": "code",
      "source": [
        "df.tail()"
      ],
      "metadata": {
        "id": "whEtA4aEzC-n"
      },
      "execution_count": null,
      "outputs": []
    },
    {
      "cell_type": "code",
      "source": [
        "df.sample(2)"
      ],
      "metadata": {
        "id": "9xdax9fjzHhv"
      },
      "execution_count": null,
      "outputs": []
    },
    {
      "cell_type": "code",
      "source": [
        "# http://data.krx.co.kr/contents/MDC/MDI/mdiLoader/index.cmd?menuId=MDC0201020103\n",
        "df = fdr.DataReader('005930', '2017', '2021')\n",
        "df.head()"
      ],
      "metadata": {
        "id": "sidHdJwIzKqn"
      },
      "execution_count": null,
      "outputs": []
    },
    {
      "cell_type": "code",
      "source": [
        "df['Close'].plot()"
      ],
      "metadata": {
        "id": "bhpOFqSWz04_"
      },
      "execution_count": null,
      "outputs": []
    },
    {
      "cell_type": "code",
      "source": [
        "df = fdr.DataReader('AAPL', '2017-01-01', '2022-04-30')\n",
        "df.tail()"
      ],
      "metadata": {
        "id": "wQopr9Y90mEv"
      },
      "execution_count": null,
      "outputs": []
    },
    {
      "cell_type": "code",
      "source": [
        "df['Close'].plot()"
      ],
      "metadata": {
        "id": "rRICxv5v061X"
      },
      "execution_count": null,
      "outputs": []
    },
    {
      "cell_type": "code",
      "source": [
        "df = fdr.DataReader('USD/KRW', '1995')\n",
        "df.tail(10)"
      ],
      "metadata": {
        "id": "Fq4Duyz01Y_n"
      },
      "execution_count": null,
      "outputs": []
    },
    {
      "cell_type": "code",
      "source": [
        "df['Close'].plot()"
      ],
      "metadata": {
        "id": "01BB49Yx1qk_"
      },
      "execution_count": null,
      "outputs": []
    },
    {
      "cell_type": "code",
      "source": [
        "df = fdr.DataReader('CNY/KRW', '1995')\n",
        "df.tail(10)"
      ],
      "metadata": {
        "id": "aSqi5wsV19Zv"
      },
      "execution_count": null,
      "outputs": []
    },
    {
      "cell_type": "code",
      "source": [
        "df['Close'].plot()"
      ],
      "metadata": {
        "id": "VCx4xk6w2Fbf"
      },
      "execution_count": null,
      "outputs": []
    },
    {
      "cell_type": "code",
      "source": [
        "# 비트코인 원화 가격 (빗썸), 2016년 ~ 현재\n",
        "df = fdr.DataReader('BTC/KRW', '2016')\n",
        "df.tail(10)"
      ],
      "metadata": {
        "id": "d-RPxIwj2K9P"
      },
      "execution_count": null,
      "outputs": []
    },
    {
      "cell_type": "code",
      "source": [
        "df['Close'].plot()"
      ],
      "metadata": {
        "id": "_5UVoJ222bAX"
      },
      "execution_count": null,
      "outputs": []
    },
    {
      "cell_type": "code",
      "source": [
        "df_krx.head()"
      ],
      "metadata": {
        "id": "vCAalr552isH"
      },
      "execution_count": null,
      "outputs": []
    },
    {
      "cell_type": "code",
      "source": [
        "df_krx['Sector'].head()"
      ],
      "metadata": {
        "id": "-l0PopLN3VtY"
      },
      "execution_count": null,
      "outputs": []
    },
    {
      "cell_type": "code",
      "source": [
        "df_krx[['Symbol', 'Name']].head()"
      ],
      "metadata": {
        "id": "o2y9umBr3kcn"
      },
      "execution_count": null,
      "outputs": []
    },
    {
      "cell_type": "code",
      "source": [
        "df_krx[['Symbol', 'Name', 'Sector']].head()"
      ],
      "metadata": {
        "id": "G2-j4vZF3vd_"
      },
      "execution_count": null,
      "outputs": []
    },
    {
      "cell_type": "code",
      "source": [
        "item_name = \"삼성전자\"\n",
        "df_krx.loc[df_krx[\"Name\"] == item_name, \"Symbol\"].tolist()[0]"
      ],
      "metadata": {
        "id": "BDjm7DKZ4FKg"
      },
      "execution_count": null,
      "outputs": []
    },
    {
      "cell_type": "code",
      "source": [
        "def item_code_by_item_name(item_name):\n",
        "    item_code_list = df_krx.loc[df_krx[\"Name\"] == item_name, \"Symbol\"].tolist()\n",
        "    if len(item_code_list) > 0:\n",
        "        item_code = item_code_list[0]\n",
        "        return item_code\n",
        "    else:\n",
        "        return False"
      ],
      "metadata": {
        "id": "7NnbAd9v5N0A"
      },
      "execution_count": null,
      "outputs": []
    },
    {
      "cell_type": "code",
      "source": [
        "item_code_by_item_name(\"삼성전자\")"
      ],
      "metadata": {
        "id": "56NLSs1q65qH"
      },
      "execution_count": null,
      "outputs": []
    },
    {
      "cell_type": "code",
      "source": [
        "def find_item_list(item_name, year=2022):\n",
        "    item_code = item_code_by_item_name(item_name)\n",
        "    if item_code:\n",
        "        df_day = fdr.DataReader(item_code, str(year))\n",
        "        return df_day\n",
        "    else:\n",
        "        return False"
      ],
      "metadata": {
        "id": "zNWuCKLW6_qY"
      },
      "execution_count": null,
      "outputs": []
    },
    {
      "cell_type": "code",
      "source": [
        "find_item_list(\"삼성전자\")"
      ],
      "metadata": {
        "id": "zG-RO8hq7iCK"
      },
      "execution_count": null,
      "outputs": []
    },
    {
      "cell_type": "code",
      "source": [
        "find_item_list(\"삼성전자\", 2021)"
      ],
      "metadata": {
        "id": "pzfhjIMl7pPZ"
      },
      "execution_count": null,
      "outputs": []
    },
    {
      "cell_type": "code",
      "source": [
        "find_item_list(\"삼성전자\", 2017)"
      ],
      "metadata": {
        "id": "ja0zJpSP7wkh"
      },
      "execution_count": null,
      "outputs": []
    },
    {
      "cell_type": "code",
      "source": [
        "stock_daily = find_item_list(\"삼성전자\", 2017)\n",
        "stock_daily"
      ],
      "metadata": {
        "id": "HP11s2qk73Jp"
      },
      "execution_count": null,
      "outputs": []
    },
    {
      "cell_type": "code",
      "source": [
        "stock_daily[\"Close\"].plot()"
      ],
      "metadata": {
        "id": "W1U7da2A8B-p"
      },
      "execution_count": null,
      "outputs": []
    },
    {
      "cell_type": "code",
      "source": [
        "g = stock_daily.plot(subplots=True, figsize=(10, 8))"
      ],
      "metadata": {
        "id": "ASJFEVFk8MnB"
      },
      "execution_count": null,
      "outputs": []
    },
    {
      "cell_type": "code",
      "source": [
        "stock_daily.describe()"
      ],
      "metadata": {
        "id": "6R3i8qkZAKxc"
      },
      "execution_count": null,
      "outputs": []
    },
    {
      "cell_type": "code",
      "source": [
        "stock_daily[[\"Close\", \"Volume\"]].plot(secondary_y=\"Volume\")"
      ],
      "metadata": {
        "id": "lYzBHQQL8zP5"
      },
      "execution_count": null,
      "outputs": []
    }
  ]
}